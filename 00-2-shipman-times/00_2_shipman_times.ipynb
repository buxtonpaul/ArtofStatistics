{
  "nbformat": 4,
  "nbformat_minor": 0,
  "metadata": {
    "colab": {
      "name": "00-2-shipman-times.ipynb",
      "provenance": [],
      "collapsed_sections": [],
      "authorship_tag": "ABX9TyMTpg2/iP++7QztEfhflpKz",
      "include_colab_link": true
    },
    "kernelspec": {
      "name": "python3",
      "display_name": "Python 3"
    },
    "language_info": {
      "name": "python"
    }
  },
  "cells": [
    {
      "cell_type": "markdown",
      "metadata": {
        "id": "view-in-github",
        "colab_type": "text"
      },
      "source": [
        "<a href=\"https://colab.research.google.com/github/buxtonpaul/ArtofStatistics/blob/master/00-2-shipman-times/00_2_shipman_times.ipynb\" target=\"_parent\"><img src=\"https://colab.research.google.com/assets/colab-badge.svg\" alt=\"Open In Colab\"/></a>"
      ]
    },
    {
      "cell_type": "markdown",
      "source": [
        "# Shipman Times"
      ],
      "metadata": {
        "id": "g-1qLVIwLO7O"
      }
    },
    {
      "cell_type": "code",
      "source": [
        "import pandas as pd\n",
        "\n",
        "df = pd.read_csv(\"00-2-shipman-times-x.csv\")\n",
        "df.head()"
      ],
      "metadata": {
        "id": "aMhweymSLYEt"
      },
      "execution_count": null,
      "outputs": []
    }
  ]
}