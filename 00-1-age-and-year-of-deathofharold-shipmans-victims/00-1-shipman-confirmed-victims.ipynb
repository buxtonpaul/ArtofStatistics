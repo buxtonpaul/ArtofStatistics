{
 "cells": [
  {
   "cell_type": "markdown",
   "metadata": {},
   "source": [
    "# Age and Year of Harold Shipmans Victoms"
   ]
  },
  {
   "cell_type": "code",
   "execution_count": 1,
   "metadata": {},
   "outputs": [
    {
     "data": {
      "text/html": [
       "<div>\n",
       "<style scoped>\n",
       "    .dataframe tbody tr th:only-of-type {\n",
       "        vertical-align: middle;\n",
       "    }\n",
       "\n",
       "    .dataframe tbody tr th {\n",
       "        vertical-align: top;\n",
       "    }\n",
       "\n",
       "    .dataframe thead th {\n",
       "        text-align: right;\n",
       "    }\n",
       "</style>\n",
       "<table border=\"1\" class=\"dataframe\">\n",
       "  <thead>\n",
       "    <tr style=\"text-align: right;\">\n",
       "      <th></th>\n",
       "      <th>DateofDeath</th>\n",
       "      <th>Name</th>\n",
       "      <th>Age</th>\n",
       "      <th>PlaceofDeath</th>\n",
       "      <th>Decision</th>\n",
       "      <th>yearOfDeath</th>\n",
       "      <th>gender</th>\n",
       "      <th>fractionalDeathYear</th>\n",
       "      <th>ageBracket</th>\n",
       "      <th>gender2</th>\n",
       "    </tr>\n",
       "  </thead>\n",
       "  <tbody>\n",
       "    <tr>\n",
       "      <th>0</th>\n",
       "      <td>17-Mar-75</td>\n",
       "      <td>Eva Lyons</td>\n",
       "      <td>70</td>\n",
       "      <td>Own home</td>\n",
       "      <td>Unlawful killing</td>\n",
       "      <td>1975</td>\n",
       "      <td>0</td>\n",
       "      <td>1974.71</td>\n",
       "      <td>70-74</td>\n",
       "      <td>Women</td>\n",
       "    </tr>\n",
       "    <tr>\n",
       "      <th>1</th>\n",
       "      <td>07-Aug-78</td>\n",
       "      <td>Sarah Hannah Marsland</td>\n",
       "      <td>86</td>\n",
       "      <td>Own home</td>\n",
       "      <td>Unlawful killing</td>\n",
       "      <td>1978</td>\n",
       "      <td>0</td>\n",
       "      <td>1978.10</td>\n",
       "      <td>85-89</td>\n",
       "      <td>Women</td>\n",
       "    </tr>\n",
       "    <tr>\n",
       "      <th>2</th>\n",
       "      <td>30-Aug-78</td>\n",
       "      <td>Mary Ellen Jordan</td>\n",
       "      <td>73</td>\n",
       "      <td>Own home</td>\n",
       "      <td>Unlawful killing</td>\n",
       "      <td>1978</td>\n",
       "      <td>0</td>\n",
       "      <td>1978.16</td>\n",
       "      <td>70-74</td>\n",
       "      <td>Women</td>\n",
       "    </tr>\n",
       "    <tr>\n",
       "      <th>3</th>\n",
       "      <td>07-Dec-78</td>\n",
       "      <td>Harold Bramwell</td>\n",
       "      <td>73</td>\n",
       "      <td>Own home</td>\n",
       "      <td>Unlawful killing</td>\n",
       "      <td>1978</td>\n",
       "      <td>1</td>\n",
       "      <td>1978.44</td>\n",
       "      <td>70-74</td>\n",
       "      <td>Men</td>\n",
       "    </tr>\n",
       "    <tr>\n",
       "      <th>4</th>\n",
       "      <td>20-Dec-78</td>\n",
       "      <td>Annie Campbell</td>\n",
       "      <td>88</td>\n",
       "      <td>Own home</td>\n",
       "      <td>Unlawful killing</td>\n",
       "      <td>1978</td>\n",
       "      <td>0</td>\n",
       "      <td>1978.47</td>\n",
       "      <td>85-89</td>\n",
       "      <td>Women</td>\n",
       "    </tr>\n",
       "  </tbody>\n",
       "</table>\n",
       "</div>"
      ],
      "text/plain": [
       "  DateofDeath                   Name  Age PlaceofDeath          Decision  \\\n",
       "0   17-Mar-75              Eva Lyons   70     Own home  Unlawful killing   \n",
       "1   07-Aug-78  Sarah Hannah Marsland   86     Own home  Unlawful killing   \n",
       "2   30-Aug-78      Mary Ellen Jordan   73     Own home  Unlawful killing   \n",
       "3   07-Dec-78        Harold Bramwell   73     Own home  Unlawful killing   \n",
       "4   20-Dec-78         Annie Campbell   88     Own home  Unlawful killing   \n",
       "\n",
       "   yearOfDeath  gender  fractionalDeathYear ageBracket gender2  \n",
       "0         1975       0              1974.71      70-74   Women  \n",
       "1         1978       0              1978.10      85-89   Women  \n",
       "2         1978       0              1978.16      70-74   Women  \n",
       "3         1978       1              1978.44      70-74     Men  \n",
       "4         1978       0              1978.47      85-89   Women  "
      ]
     },
     "execution_count": 1,
     "metadata": {},
     "output_type": "execute_result"
    }
   ],
   "source": [
    "import pandas as pd\n",
    "\n",
    "df = pd.read_csv(\"00-1-shipman-confirmed-victims-x.csv\")\n",
    "df.head()"
   ]
  },
  {
   "cell_type": "markdown",
   "metadata": {},
   "source": [
    "From the csv we have a fractional year of death that can be used to as one of our axis, and age as the other. To reproduce the figure that was provided we can use the code from the matplotlib sample [https://matplotlib.org/stable/gallery/lines_bars_and_markers/scatter_hist.html](https://matplotlib.org/stable/gallery/lines_bars_and_markers/scatter_hist.html)"
   ]
  },
  {
   "cell_type": "code",
   "execution_count": 18,
   "metadata": {},
   "outputs": [
    {
     "name": "stdout",
     "output_type": "stream",
     "text": [
      "X = range 1974.71,1997.98\n",
      "Y = range 41,93\n"
     ]
    },
    {
     "data": {
      "image/png": "[encoded data removed]",
      "text/plain": [
       "<Figure size 576x576 with 3 Axes>"
      ]
     },
     "metadata": {
      "needs_background": "light"
     },
     "output_type": "display_data"
    }
   ],
   "source": [
    "import numpy as np\n",
    "import matplotlib.pyplot as plt\n",
    "\n",
    "def scatter_hist(x, y, ax, ax_histx, ax_histy):\n",
    "    # no labels\n",
    "    ax_histx.tick_params(axis=\"x\", labelbottom=False)\n",
    "    ax_histy.tick_params(axis=\"y\", labelleft=False)\n",
    "\n",
    "    print(\"X = range {},{}\".format(np.min(x),np.max(x)))\n",
    "    print(\"Y = range {},{}\".format(np.min(y),np.max(y)))\n",
    "    # the scatter plot:\n",
    "    ax.scatter(x, y)\n",
    "\n",
    "\n",
    "    xbins = np.arange(int(np.min(x)), int(np.max(x)+0.5), 0.5)\n",
    "    ybins = np.arange(int(np.min(y)), int(np.max(y)+0.5), 5)\n",
    "    ax_histx.hist(x, bins=xbins,rwidth=0.9)\n",
    "    ax_histy.hist(y, bins=ybins, orientation='horizontal',rwidth=0.9)\n",
    "\n",
    "left, width = 0.1, 0.65\n",
    "bottom, height = 0.1, 0.65\n",
    "spacing = 0.005\n",
    "\n",
    "\n",
    "rect_scatter = [left, bottom, width, height]\n",
    "rect_histx = [left, bottom + height + spacing, width, 0.2]\n",
    "rect_histy = [left + width + spacing, bottom, 0.2, height]\n",
    "\n",
    "# start with a square Figure\n",
    "fig = plt.figure(figsize=(8, 8))\n",
    "\n",
    "ax = fig.add_axes(rect_scatter)\n",
    "ax_histx = fig.add_axes(rect_histx, sharex=ax)\n",
    "ax_histy = fig.add_axes(rect_histy, sharey=ax)\n",
    "\n",
    "# use the previously defined function\n",
    "scatter_hist(df['fractionalDeathYear'],df['Age'] , ax, ax_histx, ax_histy)\n",
    "\n",
    "plt.show()"
   ]
  },
  {
   "cell_type": "code",
   "execution_count": null,
   "metadata": {},
   "outputs": [],
   "source": []
  }
 ],
 "metadata": {
  "interpreter": {
   "hash": "376d5bdf0b400a21ef044e6f47364ee6e478cdceb1e9eadfdee089847cdab8ff"
  },
  "kernelspec": {
   "display_name": "Python 3.9.9 64-bit (windows store)",
   "language": "python",
   "name": "python3"
  },
  "language_info": {
   "codemirror_mode": {
    "name": "ipython",
    "version": 3
   },
   "file_extension": ".py",
   "mimetype": "text/x-python",
   "name": "python",
   "nbconvert_exporter": "python",
   "pygments_lexer": "ipython3",
   "version": "3.9.9"
  },
  "orig_nbformat": 4
 },
 "nbformat": 4,
 "nbformat_minor": 2
}
